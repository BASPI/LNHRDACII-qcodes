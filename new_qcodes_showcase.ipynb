{
 "cells": [
  {
   "cell_type": "markdown",
   "metadata": {},
   "source": [
    "# Showcase of the new LNHR DAC II QCoDeS driver (v0.2.0)\n",
    "\n",
    "Copyright (c) Basel Precision Instruments GmbH (2025), written for the QCoDeS driver `Baspi_Lnhrdac2.py`, v0.2.0\n",
    "\n",
    "...........................................................................................................................................................................................................................................\n",
    "\n",
    "This notebook shows brief examples on the changes made and on how to use the new and improved QCoDeS driver for the Basel Precision Instruments LNHRDAC II."
   ]
  },
  {
   "cell_type": "markdown",
   "metadata": {},
   "source": [
    "## 1 - Imports and setting up a Station"
   ]
  },
  {
   "cell_type": "code",
   "execution_count": 1,
   "metadata": {},
   "outputs": [],
   "source": [
    "from time import sleep\n",
    "\n",
    "from qcodes.station import Station\n",
    "from baspi_lnhrdac2 import BaspiLnhrdac2, BaspiLnhrdac2SWGConfig"
   ]
  },
  {
   "cell_type": "markdown",
   "metadata": {},
   "source": [
    "The names of certain methods and variables are different to previous versions of the driver to fall in line with the QCoDeS recommendations. The behaviour of the DAC upon device creation has also changed."
   ]
  },
  {
   "cell_type": "code",
   "execution_count": 2,
   "metadata": {},
   "outputs": [
    {
     "name": "stdout",
     "output_type": "stream",
     "text": [
      "\n",
      "Connected to: Basel Precision Instruments GmbH (BASPI) LNHR DAC II (SP1060) - 24 channel version (serial:SN 10600000011, firmware:Revision 3.4.9u) in 6.48s\n",
      "All channels have been turned off (1 MOhm Pull-Down to AGND) upon initialization and are pre-set to 0.0 V if turned on without setting a voltage beforehand.\n",
      "\n"
     ]
    },
    {
     "data": {
      "text/plain": [
       "'LNHRDAC'"
      ]
     },
     "execution_count": 2,
     "metadata": {},
     "output_type": "execute_result"
    }
   ],
   "source": [
    "station = Station()\n",
    "DAC = BaspiLnhrdac2('LNHRDAC', 'TCPIP0::192.168.0.5::23::SOCKET')\n",
    "station.add_component(DAC)"
   ]
  },
  {
   "cell_type": "code",
   "execution_count": 3,
   "metadata": {},
   "outputs": [
    {
     "name": "stdout",
     "output_type": "stream",
     "text": [
      "[]\n"
     ]
    },
    {
     "ename": "ValueError",
     "evalue": "(\"Shape of output is not consistent with setpoints. Output is shape (functools.partial(<bound method BaspiLnhrdac2Controller.get_awg_memory_size of <Baspi_Lnhrdac2_Controller.BaspiLnhrdac2Controller object at 0x000001A7BD390590>>, 'a'),) and setpoints are shape (functools.partial(<bound method BaspiLnhrdac2Controller.get_awg_memory_size of <Baspi_Lnhrdac2_Controller.BaspiLnhrdac2Controller object at 0x000001A7BD390590>>, 'a'),)\", 'getting LNHRDAC_awga_waveform')",
     "output_type": "error",
     "traceback": [
      "\u001b[1;31m---------------------------------------------------------------------------\u001b[0m",
      "\u001b[1;31mValueError\u001b[0m                                Traceback (most recent call last)",
      "Cell \u001b[1;32mIn[3], line 2\u001b[0m\n\u001b[0;32m      1\u001b[0m \u001b[38;5;28mprint\u001b[39m(DAC\u001b[38;5;241m.\u001b[39mawga\u001b[38;5;241m.\u001b[39mwaveform_setpoints\u001b[38;5;241m.\u001b[39mget())\n\u001b[1;32m----> 2\u001b[0m \u001b[38;5;28mprint\u001b[39m(\u001b[43mDAC\u001b[49m\u001b[38;5;241;43m.\u001b[39;49m\u001b[43mawga\u001b[49m\u001b[38;5;241;43m.\u001b[39;49m\u001b[43mwaveform\u001b[49m\u001b[38;5;241;43m.\u001b[39;49m\u001b[43mget\u001b[49m\u001b[43m(\u001b[49m\u001b[43m)\u001b[49m)\n",
      "File \u001b[1;32mc:\\Users\\Jan\\AppData\\Local\\Programs\\Python\\Python313\\Lib\\site-packages\\qcodes\\parameters\\parameter_base.py:717\u001b[0m, in \u001b[0;36mParameterBase._wrap_get.<locals>.get_wrapper\u001b[1;34m(*args, **kwargs)\u001b[0m\n\u001b[0;32m    715\u001b[0m \u001b[38;5;28;01mexcept\u001b[39;00m \u001b[38;5;167;01mException\u001b[39;00m \u001b[38;5;28;01mas\u001b[39;00m e:\n\u001b[0;32m    716\u001b[0m     e\u001b[38;5;241m.\u001b[39margs \u001b[38;5;241m=\u001b[39m e\u001b[38;5;241m.\u001b[39margs \u001b[38;5;241m+\u001b[39m (\u001b[38;5;124mf\u001b[39m\u001b[38;5;124m\"\u001b[39m\u001b[38;5;124mgetting \u001b[39m\u001b[38;5;132;01m{\u001b[39;00m\u001b[38;5;28mself\u001b[39m\u001b[38;5;132;01m}\u001b[39;00m\u001b[38;5;124m\"\u001b[39m,)\n\u001b[1;32m--> 717\u001b[0m     \u001b[38;5;28;01mraise\u001b[39;00m e\n",
      "File \u001b[1;32mc:\\Users\\Jan\\AppData\\Local\\Programs\\Python\\Python313\\Lib\\site-packages\\qcodes\\parameters\\parameter_base.py:709\u001b[0m, in \u001b[0;36mParameterBase._wrap_get.<locals>.get_wrapper\u001b[1;34m(*args, **kwargs)\u001b[0m\n\u001b[0;32m    706\u001b[0m value \u001b[38;5;241m=\u001b[39m \u001b[38;5;28mself\u001b[39m\u001b[38;5;241m.\u001b[39m_from_raw_value_to_value(raw_value)\n\u001b[0;32m    708\u001b[0m \u001b[38;5;28;01mif\u001b[39;00m \u001b[38;5;28mself\u001b[39m\u001b[38;5;241m.\u001b[39m_validate_on_get:\n\u001b[1;32m--> 709\u001b[0m     \u001b[38;5;28;43mself\u001b[39;49m\u001b[38;5;241;43m.\u001b[39;49m\u001b[43mvalidate\u001b[49m\u001b[43m(\u001b[49m\u001b[43mvalue\u001b[49m\u001b[43m)\u001b[49m\n\u001b[0;32m    711\u001b[0m \u001b[38;5;28mself\u001b[39m\u001b[38;5;241m.\u001b[39mcache\u001b[38;5;241m.\u001b[39m_update_with(value\u001b[38;5;241m=\u001b[39mvalue, raw_value\u001b[38;5;241m=\u001b[39mraw_value)\n\u001b[0;32m    713\u001b[0m \u001b[38;5;28;01mreturn\u001b[39;00m value\n",
      "File \u001b[1;32mc:\\Users\\Jan\\AppData\\Local\\Programs\\Python\\Python313\\Lib\\site-packages\\qcodes\\parameters\\parameter_with_setpoints.py:155\u001b[0m, in \u001b[0;36mParameterWithSetpoints.validate\u001b[1;34m(self, value)\u001b[0m\n\u001b[0;32m    146\u001b[0m \u001b[38;5;250m\u001b[39m\u001b[38;5;124;03m\"\"\"\u001b[39;00m\n\u001b[0;32m    147\u001b[0m \u001b[38;5;124;03mOverwrites the standard ``validate`` method to also check the the\u001b[39;00m\n\u001b[0;32m    148\u001b[0m \u001b[38;5;124;03mparameter has consistent shape with its setpoints. This only makes\u001b[39;00m\n\u001b[1;32m   (...)\u001b[0m\n\u001b[0;32m    152\u001b[0m \u001b[38;5;124;03mArguments are passed to the super method\u001b[39;00m\n\u001b[0;32m    153\u001b[0m \u001b[38;5;124;03m\"\"\"\u001b[39;00m\n\u001b[0;32m    154\u001b[0m \u001b[38;5;28;01mif\u001b[39;00m \u001b[38;5;28misinstance\u001b[39m(\u001b[38;5;28mself\u001b[39m\u001b[38;5;241m.\u001b[39mvals, Arrays):\n\u001b[1;32m--> 155\u001b[0m     \u001b[38;5;28;43mself\u001b[39;49m\u001b[38;5;241;43m.\u001b[39;49m\u001b[43mvalidate_consistent_shape\u001b[49m\u001b[43m(\u001b[49m\u001b[43m)\u001b[49m\n\u001b[0;32m    156\u001b[0m \u001b[38;5;28msuper\u001b[39m()\u001b[38;5;241m.\u001b[39mvalidate(value)\n",
      "File \u001b[1;32mc:\\Users\\Jan\\AppData\\Local\\Programs\\Python\\Python313\\Lib\\site-packages\\qcodes\\parameters\\parameter_with_setpoints.py:135\u001b[0m, in \u001b[0;36mParameterWithSetpoints.validate_consistent_shape\u001b[1;34m(self)\u001b[0m\n\u001b[0;32m    128\u001b[0m     \u001b[38;5;28;01mraise\u001b[39;00m \u001b[38;5;167;01mValueError\u001b[39;00m(\n\u001b[0;32m    129\u001b[0m         \u001b[38;5;124mf\u001b[39m\u001b[38;5;124m\"\u001b[39m\u001b[38;5;124mOne or more dimensions have unknown shape \u001b[39m\u001b[38;5;124m\"\u001b[39m\n\u001b[0;32m    130\u001b[0m         \u001b[38;5;124mf\u001b[39m\u001b[38;5;124m\"\u001b[39m\u001b[38;5;124mwhen comparing output: \u001b[39m\u001b[38;5;132;01m{\u001b[39;00moutput_shape\u001b[38;5;132;01m}\u001b[39;00m\u001b[38;5;124m to \u001b[39m\u001b[38;5;124m\"\u001b[39m\n\u001b[0;32m    131\u001b[0m         \u001b[38;5;124mf\u001b[39m\u001b[38;5;124m\"\u001b[39m\u001b[38;5;124msetpoints: \u001b[39m\u001b[38;5;132;01m{\u001b[39;00msetpoints_shape\u001b[38;5;132;01m}\u001b[39;00m\u001b[38;5;124m\"\u001b[39m\n\u001b[0;32m    132\u001b[0m     )\n\u001b[0;32m    134\u001b[0m \u001b[38;5;28;01mif\u001b[39;00m output_shape \u001b[38;5;241m!=\u001b[39m setpoints_shape:\n\u001b[1;32m--> 135\u001b[0m     \u001b[38;5;28;01mraise\u001b[39;00m \u001b[38;5;167;01mValueError\u001b[39;00m(\n\u001b[0;32m    136\u001b[0m         \u001b[38;5;124mf\u001b[39m\u001b[38;5;124m\"\u001b[39m\u001b[38;5;124mShape of output is not consistent with \u001b[39m\u001b[38;5;124m\"\u001b[39m\n\u001b[0;32m    137\u001b[0m         \u001b[38;5;124mf\u001b[39m\u001b[38;5;124m\"\u001b[39m\u001b[38;5;124msetpoints. Output is shape \u001b[39m\u001b[38;5;132;01m{\u001b[39;00moutput_shape\u001b[38;5;132;01m}\u001b[39;00m\u001b[38;5;124m and \u001b[39m\u001b[38;5;124m\"\u001b[39m\n\u001b[0;32m    138\u001b[0m         \u001b[38;5;124mf\u001b[39m\u001b[38;5;124m\"\u001b[39m\u001b[38;5;124msetpoints are shape \u001b[39m\u001b[38;5;132;01m{\u001b[39;00msetpoints_shape\u001b[38;5;132;01m}\u001b[39;00m\u001b[38;5;124m\"\u001b[39m\n\u001b[0;32m    139\u001b[0m     )\n\u001b[0;32m    140\u001b[0m LOG\u001b[38;5;241m.\u001b[39mdebug(\n\u001b[0;32m    141\u001b[0m     \u001b[38;5;124mf\u001b[39m\u001b[38;5;124m\"\u001b[39m\u001b[38;5;124mFor parameter \u001b[39m\u001b[38;5;132;01m{\u001b[39;00m\u001b[38;5;28mself\u001b[39m\u001b[38;5;241m.\u001b[39mfull_name\u001b[38;5;132;01m}\u001b[39;00m\u001b[38;5;124m verified \u001b[39m\u001b[38;5;124m\"\u001b[39m\n\u001b[0;32m    142\u001b[0m     \u001b[38;5;124mf\u001b[39m\u001b[38;5;124m\"\u001b[39m\u001b[38;5;124mthat \u001b[39m\u001b[38;5;132;01m{\u001b[39;00moutput_shape\u001b[38;5;132;01m}\u001b[39;00m\u001b[38;5;124m matches \u001b[39m\u001b[38;5;132;01m{\u001b[39;00msetpoints_shape\u001b[38;5;132;01m}\u001b[39;00m\u001b[38;5;124m\"\u001b[39m\n\u001b[0;32m    143\u001b[0m )\n",
      "\u001b[1;31mValueError\u001b[0m: (\"Shape of output is not consistent with setpoints. Output is shape (functools.partial(<bound method BaspiLnhrdac2Controller.get_awg_memory_size of <Baspi_Lnhrdac2_Controller.BaspiLnhrdac2Controller object at 0x000001A7BD390590>>, 'a'),) and setpoints are shape (functools.partial(<bound method BaspiLnhrdac2Controller.get_awg_memory_size of <Baspi_Lnhrdac2_Controller.BaspiLnhrdac2Controller object at 0x000001A7BD390590>>, 'a'),)\", 'getting LNHRDAC_awga_waveform')"
     ]
    }
   ],
   "source": [
    "print(DAC.awga.waveform_setpoints.get())\n",
    "print(DAC.awga.waveform.get())"
   ]
  },
  {
   "cell_type": "markdown",
   "metadata": {},
   "source": [
    "## 2 - Using the DAC as a DC Voltage source\n",
    "\n",
    "When used as a DC Voltage source, the voltage and bandwidth of each channel are now controlled via QCoDeS parameters. Channels are also turned on and off via a parameter."
   ]
  },
  {
   "cell_type": "code",
   "execution_count": null,
   "metadata": {},
   "outputs": [],
   "source": [
    "DAC.ch14.voltage.set(5.86)\n",
    "DAC.ch14.high_bandwidth.set(\"off\")\n",
    "DAC.ch14.enable.set(\"on\")\n",
    "\n",
    "voltage = DAC.ch14.voltage.get()\n",
    "print(f\"{voltage} V\")"
   ]
  },
  {
   "cell_type": "markdown",
   "metadata": {},
   "source": [
    "With all parameters of this driver, they can be controlled via different coding styles, as generally intended within QCoDeS."
   ]
  },
  {
   "cell_type": "code",
   "execution_count": null,
   "metadata": {},
   "outputs": [],
   "source": [
    "DAC.ch14.voltage(3.954)\n",
    "DAC.ch14.high_bandwidth(False)\n",
    "DAC.ch14.enable(\"ON\")\n",
    "\n",
    "DAC.all.enable(\"on)\")\n",
    "\n",
    "voltage = DAC.ch14.voltage()\n",
    "print(f\"{voltage} V\")"
   ]
  },
  {
   "cell_type": "markdown",
   "metadata": {},
   "source": [
    "## 3 - Using the DAC as an Arbitrary Waveform Generator (AWG)\n",
    "\n",
    "The process of outputting an arbitrary waveform has two steps. On the first step the waveform has to be generated. Below it is shown how a waveform can be generated and saved to the device memory with the integrated Standard Waveform Generator (SWG) instrument module."
   ]
  },
  {
   "cell_type": "code",
   "execution_count": null,
   "metadata": {},
   "outputs": [],
   "source": [
    "config = BaspiLnhrdac2SWGConfig(\n",
    "    shape = \"sawtooth\",\n",
    "    frequency = 80,\n",
    "    amplitude = 1.03,\n",
    "    offset = 0.0,\n",
    "    phase = 0.0\n",
    ")\n",
    "\n",
    "DAC.swg.configuration.set(config)\n",
    "DAC.swg.apply(\"B\")"
   ]
  },
  {
   "cell_type": "markdown",
   "metadata": {},
   "source": [
    "After the waveform is saved to device memory, further control happens through the AWG instrument module. Through this module, device memory can be read or set. That also allows the user to not use the SWG but save a true arbitrary waveform to the DAC's memory."
   ]
  },
  {
   "cell_type": "code",
   "execution_count": null,
   "metadata": {},
   "outputs": [],
   "source": [
    "waveform = DAC.awga.waveform.get()\n",
    "print(waveform)"
   ]
  },
  {
   "cell_type": "markdown",
   "metadata": {},
   "source": [
    "The second step of outputting the waveform involves setting the parameters of the AWG module. The DAC has for AWG modules: AWG A, AWG B, AWG C and AWG D. In the code they are named in lower case and without spaces."
   ]
  },
  {
   "cell_type": "code",
   "execution_count": null,
   "metadata": {},
   "outputs": [],
   "source": [
    "# Make sure channel is actually enabled/ turned on\n",
    "DAC.ch8.enable.set(\"on\")\n",
    "\n",
    "DAC.awgb.channel.set(8)\n",
    "DAC.awgb.cycles.set(615)\n",
    "DAC.awgb.trigger.set(\"disable\")\n",
    "DAC.awgb.enable.set(\"on\")"
   ]
  }
 ],
 "metadata": {
  "kernelspec": {
   "display_name": "Python 3",
   "language": "python",
   "name": "python3"
  },
  "language_info": {
   "codemirror_mode": {
    "name": "ipython",
    "version": 3
   },
   "file_extension": ".py",
   "mimetype": "text/x-python",
   "name": "python",
   "nbconvert_exporter": "python",
   "pygments_lexer": "ipython3",
   "version": "3.13.1"
  }
 },
 "nbformat": 4,
 "nbformat_minor": 2
}
