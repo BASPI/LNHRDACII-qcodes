{
 "cells": [
  {
   "cell_type": "markdown",
   "metadata": {},
   "source": [
    "# Showcase of the new LNHR DAC II QCoDeS driver (v0.2.0)\n",
    "\n",
    "Copyright (c) Basel Precision Instruments GmbH (2025), written for the QCoDeS driver `Baspi_Lnhrdac2.py`, v0.2.0\n",
    "\n",
    "...........................................................................................................................................................................................................................................\n",
    "\n",
    "This notebook shows brief examples on the changes made and on how to use the new and improved QCoDeS driver for the Basel Precision Instruments LNHRDAC II."
   ]
  },
  {
   "cell_type": "markdown",
   "metadata": {},
   "source": [
    "## 1 - Imports and setting up a Station"
   ]
  },
  {
   "cell_type": "code",
<<<<<<< Updated upstream
   "execution_count": null,
=======
   "execution_count": 1,
>>>>>>> Stashed changes
   "metadata": {},
   "outputs": [],
   "source": [
    "from time import sleep\n",
    "\n",
    "from qcodes.station import Station\n",
    "from Baspi_Lnhrdac2 import BaspiLnhrdac2, BaspiLnhrdac2SWGConfig"
   ]
  },
  {
   "cell_type": "markdown",
   "metadata": {},
   "source": [
    "The names of certain methods and variables are different to previous versions of the driver to fall in line with the QCoDeS recommendations. The behaviour of the DAC upon device creation has also changed."
   ]
  },
  {
   "cell_type": "code",
<<<<<<< Updated upstream
   "execution_count": null,
   "metadata": {},
   "outputs": [],
=======
   "execution_count": 2,
   "metadata": {},
   "outputs": [
    {
     "name": "stdout",
     "output_type": "stream",
     "text": [
      "\n",
      "Connected to: Basel Precision Instruments GmbH (BASPI) LNHR DAC II (SP1060) - 24 channel version (serial:SN 10600000011, firmware:Revision 3.4.9u) in 6.43s\n",
      "All channels have been turned off (1 MOhm Pull-Down to AGND) upon initialization and are pre-set to 0.0 V if turned on without setting a voltage beforehand.\n",
      "\n"
     ]
    },
    {
     "data": {
      "text/plain": [
       "'LNHRDAC'"
      ]
     },
     "execution_count": 2,
     "metadata": {},
     "output_type": "execute_result"
    }
   ],
>>>>>>> Stashed changes
   "source": [
    "station = Station()\n",
    "DAC = BaspiLnhrdac2('LNHRDAC', 'TCPIP0::192.168.0.5::23::SOCKET')\n",
    "station.add_component(DAC)"
   ]
  },
  {
   "cell_type": "markdown",
   "metadata": {},
   "source": [
    "## 2 - Using the DAC as a DC Voltage source\n",
    "\n",
    "When used as a DC Voltage source, the voltage and bandwidth of each channel are now controlled via QCoDeS parameters. Channels are also turned on and off via a parameter."
   ]
  },
  {
   "cell_type": "code",
<<<<<<< Updated upstream
   "execution_count": null,
   "metadata": {},
   "outputs": [],
   "source": [
    "DAC.ch14.voltage.set(5.86)\n",
    "DAC.ch14.high_bandwidth.set(\"off\")\n",
    "DAC.ch14.enable.set(\"on\")\n",
    "\n",
    "voltage = DAC.ch14.voltage.get()\n",
=======
   "execution_count": 4,
   "metadata": {},
   "outputs": [
    {
     "name": "stdout",
     "output_type": "stream",
     "text": [
      "5.86 V\n"
     ]
    }
   ],
   "source": [
    "DAC.ch1.voltage.set(5.86)\n",
    "DAC.ch1.high_bandwidth.set(\"off\")\n",
    "DAC.ch1.enable.set(\"on\")\n",
    "\n",
    "voltage = DAC.ch1.voltage.get()\n",
>>>>>>> Stashed changes
    "print(f\"{voltage} V\")"
   ]
  },
  {
   "cell_type": "markdown",
   "metadata": {},
   "source": [
    "With all parameters of this driver, they can be controlled via different coding styles, as generally intended within QCoDeS."
   ]
  },
  {
   "cell_type": "code",
   "execution_count": null,
   "metadata": {},
   "outputs": [],
   "source": [
    "DAC.ch14.voltage(3.954)\n",
    "DAC.ch14.high_bandwidth(False)\n",
    "DAC.ch14.enable(\"ON\")\n",
    "\n",
<<<<<<< Updated upstream
    "DAC.all.enable(\"on)\")\n",
=======
    "DAC.all.enable(\"on\")\n",
>>>>>>> Stashed changes
    "\n",
    "voltage = DAC.ch14.voltage()\n",
    "print(f\"{voltage} V\")"
   ]
  },
  {
   "cell_type": "markdown",
   "metadata": {},
   "source": [
    "## 3 - Using the DAC as an Arbitrary Waveform Generator (AWG)\n",
    "\n",
    "The process of outputting an arbitrary waveform has two steps. On the first step the waveform has to be generated. Below it is shown how a waveform can be generated and saved to the device memory with the integrated Standard Waveform Generator (SWG) instrument module."
   ]
  },
  {
   "cell_type": "code",
   "execution_count": null,
   "metadata": {},
   "outputs": [],
   "source": [
    "config = BaspiLnhrdac2SWGConfig(\n",
    "    shape = \"sawtooth\",\n",
    "    frequency = 80,\n",
    "    amplitude = 1.03,\n",
    "    offset = 0.0,\n",
    "    phase = 0.0\n",
    ")\n",
    "\n",
    "DAC.swg.configuration.set(config)\n",
    "DAC.swg.apply(\"B\")"
   ]
  },
  {
   "cell_type": "markdown",
   "metadata": {},
   "source": [
    "After the waveform is saved to device memory, further control happens through the AWG instrument module. Through this module, device memory can be read or set. That also allows the user to not use the SWG but save a true arbitrary waveform to the DAC's memory."
   ]
  },
  {
   "cell_type": "code",
   "execution_count": null,
   "metadata": {},
   "outputs": [],
   "source": [
    "waveform = DAC.awga.waveform.get()\n",
    "print(waveform)"
   ]
  },
  {
   "cell_type": "markdown",
   "metadata": {},
   "source": [
    "The second step of outputting the waveform involves setting the parameters of the AWG module. The DAC has for AWG modules: AWG A, AWG B, AWG C and AWG D. In the code they are named in lower case and without spaces."
   ]
  },
  {
   "cell_type": "code",
   "execution_count": null,
   "metadata": {},
   "outputs": [],
   "source": [
    "# Make sure channel is actually enabled/ turned on\n",
    "DAC.ch8.enable.set(\"on\")\n",
    "\n",
    "DAC.awgb.channel.set(8)\n",
    "DAC.awgb.cycles.set(615)\n",
    "DAC.awgb.trigger.set(\"disable\")\n",
    "DAC.awgb.enable.set(\"on\")"
   ]
  }
 ],
 "metadata": {
  "kernelspec": {
   "display_name": "Python 3",
   "language": "python",
   "name": "python3"
  },
  "language_info": {
   "codemirror_mode": {
    "name": "ipython",
    "version": 3
   },
   "file_extension": ".py",
   "mimetype": "text/x-python",
   "name": "python",
   "nbconvert_exporter": "python",
   "pygments_lexer": "ipython3",
   "version": "3.13.1"
  }
 },
 "nbformat": 4,
 "nbformat_minor": 2
}
