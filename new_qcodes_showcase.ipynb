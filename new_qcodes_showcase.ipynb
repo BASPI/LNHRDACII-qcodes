{
 "cells": [
  {
   "cell_type": "code",
   "execution_count": 1,
   "metadata": {},
   "outputs": [],
   "source": [
    "from time import sleep\n",
    "\n",
    "from qcodes.station import Station\n",
    "from Baspi_Lnhrdac2 import BaspiLnhrdac2"
   ]
  },
  {
   "cell_type": "code",
   "execution_count": 2,
   "metadata": {},
   "outputs": [
    {
     "name": "stdout",
     "output_type": "stream",
     "text": [
      "\n",
      "Connected to: Basel Precision Instruments GmbH (BASPI) LNHR DAC II (SP1060) - 24 channel version (serial:SN 10600000011, firmware:Revision 3.4.9u) in 6.48s\n",
      "All channels have been turned off (1 MOhm Pull-Down to AGND) upon initialization and are pre-set to 0.0 V if turned on without setting a voltage beforehand.\n",
      "\n"
     ]
    },
    {
     "data": {
      "text/plain": [
       "'LNHRDAC'"
      ]
     },
     "execution_count": 2,
     "metadata": {},
     "output_type": "execute_result"
    }
   ],
   "source": [
    "station = Station()\n",
    "DAC = BaspiLnhrdac2('LNHRDAC', 'TCPIP0::192.168.0.5::23::SOCKET')\n",
    "station.add_component(DAC)"
   ]
  },
  {
   "cell_type": "code",
   "execution_count": 3,
   "metadata": {},
   "outputs": [
    {
     "name": "stdout",
     "output_type": "stream",
     "text": [
      "5.86 V\n"
     ]
    }
   ],
   "source": [
    "DAC.ch14.voltage.set(5.86)\n",
    "DAC.ch14.high_bandwidth.set(\"off\")\n",
    "DAC.ch14.enable.set(\"on\")\n",
    "\n",
    "voltage = DAC.ch14.voltage.get()\n",
    "print(f\"{voltage} V\")"
   ]
  },
  {
   "cell_type": "code",
   "execution_count": 12,
   "metadata": {},
   "outputs": [],
   "source": [
    "configuration = {\n",
    "    \"shape\": \"sine\",\n",
    "    \"frequency\": 100,\n",
    "    \"amplitude\": 3.4,\n",
    "    \"offset\": -0.4,\n",
    "    \"phase\": 0\n",
    "}\n",
    "\n",
    "DAC.swg.awg.set(\"A\")\n",
    "DAC.swg.configuration.set(configuration)\n",
    "DAC.swg.apply()"
   ]
  },
  {
   "cell_type": "code",
   "execution_count": 5,
   "metadata": {},
   "outputs": [],
   "source": [
    "DAC.awga.channel.set(8)\n",
    "DAC.awga.cycles.set(1000)\n",
    "DAC.awga.trigger.set(\"disable\")\n",
    "DAC.ch8.enable.set(\"on\")\n",
    "DAC.awga.enable.set(True)"
   ]
  }
 ],
 "metadata": {
  "kernelspec": {
   "display_name": "BASPI-DAC-1060-qcodes-v0.1.0-G0xWj1rk",
   "language": "python",
   "name": "python3"
  },
  "language_info": {
   "codemirror_mode": {
    "name": "ipython",
    "version": 3
   },
   "file_extension": ".py",
   "mimetype": "text/x-python",
   "name": "python",
   "nbconvert_exporter": "python",
   "pygments_lexer": "ipython3",
   "version": "3.12.3"
  }
 },
 "nbformat": 4,
 "nbformat_minor": 2
}
