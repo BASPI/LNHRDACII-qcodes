{
 "cells": [
  {
   "cell_type": "markdown",
   "metadata": {},
   "source": [
    "# Example on how to create an adaptive fast 2D-scan, using the Basel Precision Instruments LNHR DAC II QCoDeS driver\n",
    "\n",
    "Copyright (c) Basel Precision Instruments GmbH (2025)\n",
    "\n",
    "...............................................................................................................\n",
    "\n",
    "## Disclaimer\n",
    "\n",
    "The driver has always supported every command that you can use to control the DAC. However, the way those commands are implemented is not in line with how QCoDeS normally (should) work(s). This means, that programming complicated functions with this driver often yields code that cannot interface with other QCoDeS-code nicely. One such complicated function would be a fast adaptive 2D scan. And since the possibility to do this with the QCoDeS driver exists, we think it is beneficial to show how it works, in disregard on how nicely it fits the concept behind QCoDeS.\n",
    "\n",
    "This notebook is basically a translation from the file `LNHRDACII-tools/fast_2D_scan_example.ipynb` into code that runs with the QCoDeS driver instead the Non-QCoDeS Telnet driver.\n",
    "\n",
    "## 0 - introduction\n",
    "\n",
    "The LNHR DAC II is by default equipped with all the necessary functions to perform a fast adaptive 2D-scan. In a typical fast adaptive 2D-scan scenario, two outputs of the LNHR DAC II are used to create the x-axis and y-axis signals. Optionally a third output can be used to create a trigger signal. Alternitavely the LNHR DAC II can be triggered by the Data Acquisition, or no trigger can be used at all. The picture below shows a diagram of such a typical 2D-scan setup.\n",
    "\n",
    "<img src=\"./graphics/typical-measurement-setup.png\" width=\"1308\" height=\"215\">"
   ]
  },
  {
   "cell_type": "markdown",
   "metadata": {},
   "source": [
    "## 1 - imports and setup\n",
    "For this example the Basel Precision Instruments LNHR DAC II qcodes-driver is used (available on Github)."
   ]
  },
  {
   "cell_type": "code",
   "execution_count": 1,
   "metadata": {},
   "outputs": [
    {
     "name": "stdout",
     "output_type": "stream",
     "text": [
      "Connected to: Basel Precision Instruments LNHR DAC II (SP1060) (serial: SN 10600000011, firmware: Revision 3.4.9u) in 0.05s\n",
      "Current DAC output (Channel 1 ... Channel 24): \n",
      "(1.0, -0.0, -0.0, -0.0, -0.0, -0.0, -0.0, -0.0, -0.0, -0.0, -0.0, -0.0, -0.0, -0.0, -0.0, -0.0, -0.0, -0.0, -0.0, -0.0, -0.0, -0.0, -0.0, -0.0)\n"
     ]
    }
   ],
   "source": [
    "# Baspi Dac driver\n",
    "from baspi_lnhrdac2 import SP1060\n",
    "\n",
    "#create a dac instance:\n",
    "dac = SP1060('LNHR_dac', 'TCPIP0::192.168.0.5::23::SOCKET')  "
   ]
  },
  {
   "cell_type": "markdown",
   "metadata": {},
   "source": [
    "## 2 - define parameters for the 2D-scan\n",
    "To simplify the setup process of the 2D-scan, a few parameters are defined here, from which the actual DAC parameters are derived from:\n",
    "\n",
    "- **x_steps**: number of steps on the slower x-axis (int)\n",
    "- **x_start_voltage**: voltage at which the slower x-axis starts a sweep (float)\n",
    "- **x_stop-voltage**: voltage at which the slower x-axis stops a sweep (float)\n",
    "- **y_steps**: number of steps on the faster y-axis (int)\n",
    "- **y_start_voltage**: voltage at which the faster y-axis starts a sweep (float)\n",
    "- **y_stop-voltage**: voltage at which the faster y-axis stops a sweep (float)\n",
    "- **acquisition_delay**: time the data acquisition needs to measure the signal in ms (milli-seconds) or \"duration of a point\" (float)\n",
    "- **adaptive_shift**: voltage shift after each fast sweep of the y-axis"
   ]
  },
  {
   "cell_type": "code",
   "execution_count": 2,
   "metadata": {},
   "outputs": [],
   "source": [
    "x_steps = 10\n",
    "x_start_voltage = 0.0\n",
    "x_stop_voltage = 1.0\n",
    "y_steps = 10\n",
    "y_start_voltage = 0.0\n",
    "y_stop_voltage = 1.0\n",
    "acquisition_delay = 10\n",
    "adaptive_shift = 0.1"
   ]
  },
  {
   "cell_type": "markdown",
   "metadata": {},
   "source": [
    "## 3 - choose DAC channels for x- and y-axis\n",
    "The output for the x- and y-axis can be selected freely, as long as both outputs are on the same DAC-Board (channels 1 - 12 or 13 - 24). For this example the AWG-A and RAMP-A generators are used.\n"
   ]
  },
  {
   "cell_type": "code",
   "execution_count": 3,
   "metadata": {},
   "outputs": [],
   "source": [
    "#define the DAC channels which will be used as outputs\n",
    "output_x = 1\n",
    "output_y = 2\n",
    "\n",
    "#check availability of the AWG-A and RAMP-A, set auxiliary variables\n",
    "if dac.read_AWGChannelAvailable(awg=\"A\") == \"1\" and dac.read_rampChannelAvailable(ramp=\"A\") == \"1\":\n",
    "    pass\n",
    "else:\n",
    "    raise Exception(\"AWG resources not available\")\n",
    "\n",
    "awg_output = \"a\"\n",
    "memory = 0\n",
    "board = \"ab\""
   ]
  },
  {
   "cell_type": "markdown",
   "metadata": {},
   "source": [
    "## 4 - setup x-axis\n",
    "The LNHR DAC II must be configured to automatically update the slower x-axis signal using the before chosen ramp generator.\n",
    "\n",
    "<img src=\"./graphics/block-diagram-xaxis.png\" width=\"1308\" height=\"215\">"
   ]
  },
  {
   "cell_type": "code",
   "execution_count": 4,
   "metadata": {},
   "outputs": [
    {
     "data": {
      "text/plain": [
       "'0'"
      ]
     },
     "execution_count": 4,
     "metadata": {},
     "output_type": "execute_result"
    }
   ],
   "source": [
    "# calculate the internally used parameter\n",
    "ramp_time = 0.005 * (x_steps + 1)\n",
    "\n",
    "dac.set_ramp_channel(ramp=f\"{awg_output}\",          channel=f\"{output_x}\")      #ramp selected DAC-channel      \n",
    "dac.set_ramp_starting_voltage(ramp=f\"{awg_output}\", voltage= x_start_voltage)   #ramp start voltage\n",
    "dac.set_ramp_peak_voltage(ramp=f\"{awg_output}\",     voltage= x_stop_voltage)    #ramp stop voltage\n",
    "dac.set_ramp_duration(ramp=f\"{awg_output}\",         time= ramp_time)            #ramp time\n",
    "dac.set_ramp_shape(ramp=f\"{awg_output}\",            shape= 0)                   #ramp shape\n",
    "dac.set_ramp_cycles(ramp=f\"{awg_output}\",           cycles= 1)                  #ramp cycles set\n",
    "dac.select_ramp_step(ramp=f\"{awg_output}\",          mode= 1)                    #ramp/step selection\n"
   ]
  },
  {
   "cell_type": "markdown",
   "metadata": {},
   "source": [
    "# 5 - setup y-axis\n",
    "The y-axis signal is generated using an AWG of the LNHR DAC II.\n",
    "\n",
    "<img src=\"./graphics/block-diagram-yaxis.png\" width=\"1308\" height=\"215\">\n",
    "\n",
    "### 5.1 - Configuring the AWG\n",
    "The before chosen AWG-A is configured to the correct update rate. It must be checked, that the minimum AWG duration is at least 6 ms."
   ]
  },
  {
   "cell_type": "code",
   "execution_count": 5,
   "metadata": {},
   "outputs": [
    {
     "data": {
      "text/plain": [
       "'0'"
      ]
     },
     "execution_count": 5,
     "metadata": {},
     "output_type": "execute_result"
    }
   ],
   "source": [
    "#calculate the internally used parameters\n",
    "clock_period = int(acquisition_delay * 1000)\n",
    "frequency = 1.0/(y_steps *(0.000001 * clock_period))\n",
    "amplitude = y_stop_voltage - y_start_voltage\n",
    "offset = y_start_voltage\n",
    "\n",
    "#check minimum AWG duration\n",
    "if(1.0 / frequency) < 0.006:\n",
    "    raise Exception(\"Y-axis: clock period too short or not enough steps\")\n",
    "\n",
    "#configure AWG\n",
    "dac.set_awg_channel(awg=f\"{awg_output}\", channel=f\"{output_y}\") #awg selected DAC-channel\n",
    "dac.set_awg_cycles(awg=f\"{awg_output}\", cycles= 1)              #awg cycles set\n",
    "dac.set_awg_trigger_mode(awg=f\"{awg_output}\", mode=0)           #awg external trigger\n",
    "dac.set_awg_clock_period(board=f\"{board}\", period=clock_period) #clock period\n",
    "dac.set_swg_adaptclock_state(state=0)                           #adaptive clock period"
   ]
  },
  {
   "cell_type": "markdown",
   "metadata": {},
   "source": [
    "### 5.2 - standard waveform generation\n",
    "The internal Standard Waveform Generator (SWG) is used to create the fast y-axis signal. It is configured to generate a ramp. It can also be used to generate simple standard waveforms for other applications."
   ]
  },
  {
   "cell_type": "code",
   "execution_count": 6,
   "metadata": {},
   "outputs": [
    {
     "data": {
      "text/plain": [
       "'0'"
      ]
     },
     "execution_count": 6,
     "metadata": {},
     "output_type": "execute_result"
    }
   ],
   "source": [
    "dac.set_swg_mode(0)                             #swg mode (generate new/use old)\n",
    "dac.set_swg_shape(shape=3)                            #set waveform\n",
    "dac.set_swg_desired_frequency(frequency)        #set frequency\n",
    "dac.set_swg_amplitude(amplitude)                #set amplitude\n",
    "dac.set_swg_offset(offset)                      #set offset\n",
    "dac.set_swg_phase(phase= 0.0000)                #set phase\n",
    "dac.set_swg_wav_memory(memory)                  #set selected wave memory\n",
    "dac.set_swg_selected_operation(operation=2)     #set selected wave memory operation"
   ]
  },
  {
   "cell_type": "markdown",
   "metadata": {},
   "source": [
    "### 5.3 - write the generated waveform to the AWG\n",
    "The before created waveform must be saved to the wave memory before it can be transferred to the AWG memory."
   ]
  },
  {
   "cell_type": "code",
   "execution_count": 7,
   "metadata": {},
   "outputs": [
    {
     "data": {
      "text/plain": [
       "'0'"
      ]
     },
     "execution_count": 7,
     "metadata": {},
     "output_type": "execute_result"
    }
   ],
   "source": [
    "dac.clear_wav_memory(f\"{awg_output}\")                                           #clear wave memory\n",
    "dac.apply_swg_operation()                                                       #apply swg to wave memory\n",
    "\n",
    "last_mem_adr = dac.get_wav_memory_size(wav=f\"{awg_output}\")                     #get wave memory address\n",
    "last_mem_adr = int(last_mem_adr)\n",
    "\n",
    "dac.write(command=f\"wav-{awg_output} {last_mem_adr:x} {y_start_voltage:.6f}\")   #set last step to start value\n",
    "dac.write_wav_to_awg(wav_awg=f\"{awg_output}\")                                   #write wave memory to awg memory\n",
    "\n"
   ]
  },
  {
   "cell_type": "markdown",
   "metadata": {},
   "source": [
    "### 5.4 - setup the adaptive shift\n",
    "A linear adaptive shift is executed when the parameter `adaptive_shift` is not zero. After each fast y-axis cycle, the start and stop voltage for the next cycle are shifted by the defined voltage. "
   ]
  },
  {
   "cell_type": "code",
   "execution_count": 8,
   "metadata": {},
   "outputs": [
    {
     "data": {
      "text/plain": [
       "'0'"
      ]
     },
     "execution_count": 8,
     "metadata": {},
     "output_type": "execute_result"
    }
   ],
   "source": [
    "adaptive_scan = 1 if adaptive_shift > 0.0 else 0\n",
    "dac.set_awg_start_mode(awg=f\"{awg_output}\", mode= 1)                    #normal/auto start awg\n",
    "dac.set_awg_reload_mode(awg=f\"{awg_output}\", mode=adaptive_scan)        #keep/reload awg memory\n",
    "dac.set_apply_polynomial(polynomial=f\"{awg_output}\", mode=adaptive_scan)#apply/skip polynomial and adaptive shift voltage"
   ]
  },
  {
   "cell_type": "markdown",
   "metadata": {},
   "source": [
    "## 6 - setup trigger for data acquisition\n",
    "The LNHR DAC II supports different trigger configurations.\n",
    "\n",
    "<img src=\"./graphics/block-diagram-trigger.png\" width=\"1308\" height=\"215\">\n",
    "\n",
    "## 6.1 - using the trigger in-/outputs of the DAC\n",
    "\n",
    "The DACs trigger can be setup to one of 4 configurations:\n",
    "\n",
    "- No external trigger, scan as fast as possible\n",
    "- Trigger from the DAQ to the DAC, the DAC is triggered by an external trigger, line by line\n",
    "- Trigger from the DAC to the DAQ, the DAC generates a trigger signal, line by line\n",
    "- Trigger from the DAC to the DAQ, the DAC generates a trigger signal, point by point\n",
    "\n",
    "<img src=\"./graphics/trigger-configurations.png\" width=\"585\" height=\"332\">\n",
    "\n",
    "Each trigger configuration needs a slightly different hardware setup, using the logic in-/outputs on the backside of the DAC:\n",
    "\n",
    "- Use the corresponding `TRIG IN AWG` output to trigger the DAC from an external trigger. Only line by line trigger is supported\n",
    "- Use the corrresponding `SYNC OUT AWG` output to use the automatically generated trigger of the DAC. Only line by line trigger is supported\n",
    "- see the following chapter if you want to use a point by point trigger\n",
    "\n",
    "## 6.2 - using an AWG as a trigger output\n",
    "In this example we are generating a point by point trigger which can be used to trigger the data acquisistion system. To do this, we are using a second of the DACs AWGs.\n",
    "\n",
    "We generate a rectangular signal, which has double the update rate of the y-axis ramp. A caveat of this is, that we need different base clocks on the used AWGs. Since all the channels on a DAC-board (channels 1 to 12 and channels 13 to 24) are sharing a base clock, we need two AWGs on different DAC-boards. Therefore, this can only be done on a 24-channel LNHR DAC II.\n",
    "\n",
    "To synchronize the generated rectangular signal to the y-axis signal, we simply need to connect the `SYNC OUT AWG` output, corresponding to the AWG that generates the y-axis signal, to the `TRIG IN AWG` input, corresponding to the AWG that generates the rectangular trigger signal. In this example we use the AWG-A to create the y-axis and the AWG-C to create the rectangular signal. This would mean, we need to connect the `SYNC OUT AWG-A` output to the `TRIG IN AWG-C`input of the DAC."
   ]
  },
  {
   "cell_type": "code",
   "execution_count": 9,
   "metadata": {},
   "outputs": [
    {
     "data": {
      "text/plain": [
       "'0'"
      ]
     },
     "execution_count": 9,
     "metadata": {},
     "output_type": "execute_result"
    }
   ],
   "source": [
    "#define the DAC channel which will be used as output\n",
    "output_daq_trigger = 13\n",
    "#check availabilitiy of the awg-c and ramp-c, set auxiliary variables\n",
    "if dac.read_AWGChannelAvailable(awg=\"C\") == \"1\" and dac.read_rampChannelAvailable(ramp=\"C\") == \"1\":\n",
    "    awg_trigger = \"c\"\n",
    "    memory = 2\n",
    "else:\n",
    "    raise Exception(\"AWG resources not available\")\n",
    "\n",
    "#configure AWG\n",
    "dac.set_awg_channel(awg=f\"{awg_trigger}\", channel=f\"{output_daq_trigger}\") #awg selected dac-channel\n",
    "dac.set_awg_cycles(awg=f\"{awg_trigger}\", cycles= y_steps)#awg cycles set\n",
    "dac.set_awg_trigger_mode(awg=f\"{awg_trigger}\", mode= 1)#awg external trigger\n",
    "dac.set_swg_adaptclock_state(state=1)#adaptive clock period\n",
    "\n",
    "#create rectangular signal using the SWG\n",
    "dac.set_swg_mode(mode= \"0\")                         #swg mode (generate new)\n",
    "dac.set_swg_shape(shape=4)                          #set waveform\n",
    "dac.set_swg_desired_frequency(1/(clock_period*0.000001))            #set frequency\n",
    "dac.set_swg_amplitude(2.5)                    #set amplitude\n",
    "\n",
    "dac.set_swg_offset(offset=2.500000)                 #swg offset\n",
    "dac.set_swg_phase(phase=0.0000)                     #swg phase\n",
    "dac.set_swg_dutycycle(dutycycle=50.000)             #swg duty cycle\n",
    "dac.set_swg_selected_operation(operation= 2)        #swg selected wave memory operation\n",
    "\n",
    "#write signal to wave memory and awg memory afterwards\n",
    "dac.clear_wav_memory(wav=f\"{awg_trigger}\")          #clear wave memory\n",
    "dac.apply_swg_operation()                           #apply swg to wave memory\n",
    "dac.write_wav_to_awg(wav_awg=f\"{awg_trigger}\")      #write wave memory to awg"
   ]
  },
  {
   "cell_type": "markdown",
   "metadata": {},
   "source": [
    "## 7 - prepare outputs and start 2D-scan\n",
    "Before the 2D-scan can be started, the used outputs should be set to the assigned starting voltages. Additionally the Bandwidth should be set and the outputs should be turned on.\n",
    "\n",
    "To start the 2D-scan, simply start the first cycle of the y-axis signal. If everything is configured correctly, the rest should happen fully automatic.\n"
   ]
  },
  {
   "cell_type": "code",
   "execution_count": 15,
   "metadata": {},
   "outputs": [
    {
     "data": {
      "text/plain": [
       "'0'"
      ]
     },
     "execution_count": 15,
     "metadata": {},
     "output_type": "execute_result"
    }
   ],
   "source": [
    "# set starting voltages\n",
    "dac.set_chan_voltage(channel= output_x, dacvalue=int((float(x_start_voltage) + 10.000000) * 838860.74))\n",
    "dac.set_chan_voltage(channel= output_y, dacvalue=int((float(y_start_voltage) + 10.000000) * 838860.74))\n",
    "\n",
    "#set bandwith\n",
    "dac.set_chan_bandwidth(channel=output_x, bandwidth=\"HBW\")\n",
    "dac.set_chan_bandwidth(channel=output_y, bandwidth=\"HBW\")\n",
    "dac.set_chan_bandwidth(channel=output_daq_trigger, bandwidth=\"HBW\")\n",
    "\n",
    "#turn on outputs\n",
    "dac.set_chan_on(channel= output_x)\n",
    "dac.set_chan_on(channel= output_y)\n",
    "dac.set_chan_on(channel= output_daq_trigger)\n",
    "\n",
    "#start 2D-scan\n",
    "dac.set_awg_start_stop(awg=f\"{awg_output}\", command=\"start\")\n"
   ]
  },
  {
   "cell_type": "markdown",
   "metadata": {},
   "source": [
    "## 8 - restart or change parameters of the 2D-scan\n",
    "It is recommended to turn all used outputs off and stop all AWGs and ramp generators before the 2D-scan is restarted or any parameters are changed."
   ]
  },
  {
   "cell_type": "code",
   "execution_count": 14,
   "metadata": {},
   "outputs": [],
   "source": [
    "if True:\n",
    "\n",
    "    #turn off outputs\n",
    "    dac.set_chan_off(channel=output_x)\n",
    "    dac.set_chan_off(channel=output_y)\n",
    "    dac.set_chan_off(channel=output_daq_trigger)\n",
    "\n",
    "    #stop awgs and ramps\n",
    "\n",
    "    dac.set_awg_start_stop(awg=f\"{awg_output}\", command=\"stop\")\n",
    "    dac.set_ramp_mode(ramp=f\"{awg_output}\", mode=\"stop\")\n",
    "    dac.set_awg_start_stop(awg=f\"{awg_trigger}\", command=\"stop\")"
   ]
  },
  {
   "cell_type": "code",
   "execution_count": null,
   "metadata": {},
   "outputs": [],
   "source": []
  }
 ],
 "metadata": {
  "kernelspec": {
   "display_name": "Python 3",
   "language": "python",
   "name": "python3"
  },
  "language_info": {
   "codemirror_mode": {
    "name": "ipython",
    "version": 3
   },
   "file_extension": ".py",
   "mimetype": "text/x-python",
   "name": "python",
   "nbconvert_exporter": "python",
   "pygments_lexer": "ipython3",
   "version": "3.13.1"
  }
 },
 "nbformat": 4,
 "nbformat_minor": 2
}
