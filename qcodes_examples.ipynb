{
 "cells": [
  {
   "cell_type": "markdown",
   "metadata": {},
   "source": [
    "# Showcase of the new LNHR DAC II QCoDeS driver (v0.2.0)\n",
    "\n",
    "Copyright (c) Basel Precision Instruments GmbH (2025), written for the QCoDeS driver `Baspi_Lnhrdac2.py`, v0.2.0\n",
    "\n",
    "...........................................................................................................................................................................................................................................\n",
    "\n",
    "This notebook shows brief examples on the changes made and on how to use the new and improved QCoDeS driver for the Basel Precision Instruments LNHRDAC II."
   ]
  },
  {
   "cell_type": "markdown",
   "metadata": {},
   "source": [
    "## 1 - Imports and setting up a Station\n",
    "\n",
    "What's new? Generally names have been changed to previous versions of the driver to fall in line with the QCoDeS recommendations. The behaviour of the DAC upon device creation has also changed. The DAC tells the user what it does after Startup.\n",
    "\n",
    "The main driver class is the `BaspiLnhrdac2` class. For simple use cases as applying DC-voltages, this is the only class needed. If advanced functions of the DAC such as the Arbitrary Waveform Generator (AWG) or the fast adaptive 2D scan are used, the classes `BaspiLnhrdac2SWGConfig` and `BaspiLnhrdac2Fast2dConfig` are also needed."
   ]
  },
  {
   "cell_type": "code",
   "execution_count": null,
   "metadata": {},
   "outputs": [],
   "source": [
    "from qcodes.station import Station\n",
    "from Baspi_Lnhrdac2 import BaspiLnhrdac2, BaspiLnhrdac2SWGConfig, BaspiLnhrdac2Fast2dConfig"
   ]
  },
  {
   "cell_type": "code",
   "execution_count": null,
   "metadata": {},
   "outputs": [],
   "source": [
    "station = Station()\n",
    "DAC = BaspiLnhrdac2('LNHRDAC', 'TCPIP0::192.168.0.5::23::SOCKET')\n",
    "station.add_component(DAC)"
   ]
  },
  {
   "cell_type": "markdown",
   "metadata": {},
   "source": [
    "## 2 - Using the DAC as a DC Voltage source\n",
    "\n",
    "What's new? Everything is using easy to understand parameters now.\n",
    "\n",
    "Using the DAC as a computer controlled DC voltage source, every channel of the DAC can be controlled through three main parameters.\n",
    "- `chN.voltage`: Sets or gets the voltage currently applied to the output. Default is 0.0 V.\n",
    "- `chN.high_bandwidth`: Sets or gets if the high bandwidth mode (100 kHz) is activated or not. Default is high bandwidth deactivated, meaning the channel is in low bandwidth mode (100 Hz), for best noise performance.\n",
    "- `chN.enable`: Enables or disables the output. If a DAC channel is disabled, no voltage is outputted (output open, 1 MOhm to AGND).\n",
    "\n",
    "The `chN.high_bandwidth.set()` and `chN.enable.set()` can not only be controlled with the arguments `\"on\"` and `\"off\"` but with `True` and `False` too.\n",
    "\n",
    "Using the more advanced functions of the DAC such as the AWG, the `chN.high_bandwidth` and `chN.enable` are still used to control the bandwidth and enabling or disabling the outputs."
   ]
  },
  {
   "cell_type": "code",
   "execution_count": null,
   "metadata": {},
   "outputs": [],
   "source": [
    "DAC.ch14.voltage.set(5.86)\n",
    "DAC.ch14.high_bandwidth.set(\"off\")\n",
    "DAC.ch14.enable.set(True)\n",
    "\n",
    "voltage = DAC.ch14.voltage.get()\n",
    "print(f\"{voltage} V\")"
   ]
  },
  {
   "cell_type": "code",
   "execution_count": null,
   "metadata": {},
   "outputs": [],
   "source": [
    "DAC.all.voltage.set(-1.248)\n",
    "DAC.all.enable.set(True)\n",
    "voltages = DAC.all.voltage.get()\n",
    "print(voltages)"
   ]
  },
  {
   "cell_type": "markdown",
   "metadata": {},
   "source": [
    "## 3 - Using the DAC as an Arbitrary Waveform Generator (AWG)\n",
    "\n",
    "What's new? Again, everything is using easy to understand parameters now. Everything shown in this chapter, could have been done with the older drivers, but it was a very tedious and much more complex process and the documentation was not easily available. With the new parameters, everything has been drastically simplified.\n",
    "\n",
    "Broadly speaking, the process of using the AWG can be divided into to steps:\n",
    "- Generating and saving a waveform to the device memory \n",
    "- Outputting it on the device\n",
    "\n",
    "The 12 channel version of the LNHR DAC II has two AWGs, AWG A and AWG B, whereas the 24 channel version has four AWGs, AWG A, AWG B, AWG C and AWG D. All AWGs have their own set of parameters.\n",
    "\n",
    "There are two ways on how a waveform can be generated and saved to device memory.\n",
    "\n",
    "### 3.1 - Creating a waveform using the integrated Standard Waveform Generator (SWG)\n",
    "\n",
    "The integrated Standard Waveform Generator (SWG) instrument module aids with the generation of simple signals, such as:\n",
    "- sine and cosine\n",
    "- triangualar and sawtooth signals\n",
    "- rectangular and pulse/ PWM signals\n",
    "- fixed and random white noise\n",
    "\n",
    "To configure the SWG, an object of class `BaspiLnhrdac2SWGConfig` must be passed to the `swg.configuration`parameter. Once parametrized, the waveform can be saved to the device memory using the `swg.apply` method."
   ]
  },
  {
   "cell_type": "code",
   "execution_count": null,
   "metadata": {},
   "outputs": [],
   "source": [
    "config = BaspiLnhrdac2SWGConfig(\n",
    "    shape = \"sawtooth\",\n",
    "    frequency = 80.0,\n",
    "    amplitude = 1.03,\n",
    "    offset = 0.0,\n",
    "    phase = 0.0\n",
    ")\n",
    "\n",
    "DAC.swg.configuration.set(config)\n",
    "DAC.swg.apply(\"A\")"
   ]
  },
  {
   "cell_type": "markdown",
   "metadata": {},
   "source": [
    "### 3.2 - Creating a waveform using a set of custom data\n",
    "\n",
    "For more complex waveforms, a fully custom waveform can be directly written to device memory, using the `awgX.waveform` parameter. Before the waveform is set, the `awgX.length` parameter has to be updated. Additionally there is the option to set the `awgX.sampling_rate` parameter. It is important to note, that the AWG A and AWG B share the same sampling rate, as do AWG C and AWG D. Therefore, by changing the `awga.sampling_rate` the `awgb.sampling_rate` is changed too.\n",
    "\n",
    "Writing a waveform directly to the device memory comes with the advantage of full customizability, however, especially relevant for larger waveforms (more points), this method is slower than using the SWG."
   ]
  },
  {
   "cell_type": "code",
   "execution_count": null,
   "metadata": {},
   "outputs": [],
   "source": [
    "from numpy import empty, sin\n",
    "from random import random\n",
    "\n",
    "# creating a noisy rectangular signal\n",
    "waveform = empty(100)\n",
    "for i in range(0, len(waveform)):\n",
    "    sign = 1 if bool(round(random())) else -1\n",
    "    amplitude = 8 if sin(i/10) >= 0 else -8\n",
    "    waveform[i] = round(amplitude + ((random()) * sign), 6)"
   ]
  },
  {
   "cell_type": "code",
   "execution_count": null,
   "metadata": {},
   "outputs": [],
   "source": [
    "DAC.awgb.length.set(len(waveform))\n",
    "DAC.awgb.sampling_rate.set(0.1)\n",
    "DAC.awgb.waveform.set(waveform)"
   ]
  },
  {
   "cell_type": "markdown",
   "metadata": {},
   "source": [
    "### 3.3 - Output the saved waveform\n",
    "\n",
    "Once the waveform is saved to the device memory, the AWG can be set up to output the waveform.\n",
    "\n",
    "If an external trigger is desireable, the `awgX.trigger` parameter provides the following possibilities:\n",
    "- `\"disable\"`: no external trigger, AWG started by software\n",
    "- `\"start only\"`: rising edge on the AWGs trigger input starts the AWG\n",
    "- `\"start stop\"`: rising edge on the AWGs trigger input starts the AWG, falling edge stops it, indefinetly repeatable\n",
    "- `\"single step\"`: on each rising edge on the AWGs trigger input, the AWG outputs the next stored value from memory, this results in the irrelevance of the `awgX.sampling_rate` parameter\n",
    "\n",
    "It should also be noted, that the `chN.enable` and `chN.high_bandwidth` parameters still control the channels."
   ]
  },
  {
   "cell_type": "code",
   "execution_count": null,
   "metadata": {},
   "outputs": [],
   "source": [
    "DAC.ch3.enable.set(\"on\")\n",
    "DAC.ch3.high_bandwidth.set(\"on\")\n",
    "\n",
    "DAC.awga.channel.set(3)\n",
    "DAC.awga.cycles.set(615)\n",
    "DAC.awga.trigger.set(\"disable\")\n",
    "DAC.awga.enable.set(\"on\")\n",
    "\n",
    "\n",
    "DAC.ch8.enable.set(\"on\")\n",
    "DAC.ch8.high_bandwidth.set(\"on\")\n",
    "\n",
    "DAC.awgb.channel.set(8)\n",
    "DAC.awgb.cycles.set(0) # infinite repetitions\n",
    "DAC.awgb.trigger.set(\"disable\")\n",
    "DAC.awgb.enable.set(\"on\")"
   ]
  },
  {
   "cell_type": "markdown",
   "metadata": {},
   "source": [
    "### 3.4 - Read and plot the saved waveform\n",
    "\n",
    "Once saved to device memory, the user can read the waveforms through the `awgX.waveform` parameter. This is a parameter with setpoints, the setpoints are stored inside the parameter `awgX.time_axis`. Therefore the user automatically gains access to the time intervals of the waveform, which allows for an easy way to plot it."
   ]
  },
  {
   "cell_type": "code",
   "execution_count": null,
   "metadata": {},
   "outputs": [],
   "source": [
    "awga = DAC.awga.waveform.get()\n",
    "awga_setpoints = DAC.awga.time_axis.get()\n",
    "\n",
    "print(f\"Values stored in AWG A device memory ({DAC.awga.length.get()} datapoints, in V):\")\n",
    "print(f\"{awga}\\n\")\n",
    "\n",
    "print(f\"Time intervals for AWG A ({DAC.awga.length.get()} datapoints, in s):\")\n",
    "print(f\"{awga_setpoints}\\n\")"
   ]
  },
  {
   "cell_type": "markdown",
   "metadata": {},
   "source": [
    "The following code is paraphrased from the QCoDeS documentation website, showing how to plot a parameter with setpoints. Plotting this data can of course also be done in other ways."
   ]
  },
  {
   "cell_type": "code",
   "execution_count": null,
   "metadata": {},
   "outputs": [],
   "source": [
    "from qcodes.dataset import Measurement, plot_dataset\n",
    "\n",
    "# set measurement contex\n",
    "measurement = Measurement()\n",
    "measurement.register_parameter(DAC.awga.time_axis)\n",
    "measurement.register_parameter(DAC.awga.waveform, setpoints = (DAC.awga.time_axis,))\n",
    "\n",
    "# get data from device and save as plottable data\n",
    "with measurement.run() as datasaver:\n",
    "    datasaver.add_result((DAC.awga.time_axis, DAC.awga.time_axis.get()), (DAC.awga.waveform, DAC.awga.waveform.get()))\n",
    "    dataset = datasaver.dataset\n",
    "\n",
    "plot_dataset(dataset)"
   ]
  },
  {
   "cell_type": "markdown",
   "metadata": {},
   "source": [
    "## 4 - Using the DAC for 2D-scans\n",
    "\n",
    "What's new? Similar to the AWG and SWG submodules, this driver introduces a fast adaptive 2D scan submodule with easy to understand parameters.\n",
    "\n",
    "But what if a 2D-scan is not time critical? The old fashioned way of using the QCoDeS `do2d` method still works. To decide which method should be used, the following might help decide:\n",
    "- `do2d`\n",
    "    - works with most QCoDeS compatible voltage sources\n",
    "    - is easy to use; coordination between source and measurement device is automatically done by QCoDeS\n",
    "    - speed of the 2D-scan is restricted by communication speed of the used devices and computing power of the QCoDeS running device, therefore scans are usually slow\n",
    "\n",
    "- `fast2d`\n",
    "    - only works with the LNHRDAC II\n",
    "    - is easy to set up; the scan is configured through the `BaspiLnhrdac2Fast2dConfig` class and the trigger parameter\n",
    "    - speeds of down to 10 &mu;s per point are possible, independent of computing power and communication speeds\n",
    "    - different external trigger modes are available\n",
    "\n",
    "### 4.1 - Using the standard QCoDeS `do2d`\n",
    "\n",
    "As with all past QCoDeS drivers for the LNHRDAC II, the `do2d` method still creates a simple 2D-scan. \n",
    "\n",
    "The example below uses a dummy instrument for the data acquisition, such that QCoDeS has some data to plot. This must obviously eventually be replaced with a real instrument."
   ]
  },
  {
   "cell_type": "code",
   "execution_count": null,
   "metadata": {},
   "outputs": [],
   "source": [
    "from qcodes.instrument import Instrument, Parameter\n",
    "from qcodes.utils.dataset.doNd import do2d\n",
    "import random\n",
    "\n",
    "# random measurement parameter mimicking a real measurement device\n",
    "class RandomNumberParameter(Parameter):\n",
    "    def get_raw(self):\n",
    "        return random.random()\n",
    "\n",
    "class RandomNumberInstrument(Instrument):\n",
    "    def __init__(self, name):\n",
    "        super().__init__(name)\n",
    "        self.add_parameter('measurement', parameter_class=RandomNumberParameter, unit='V')\n",
    "\n",
    "    def get_idn(self):\n",
    "        return {\"vendor\": \"BasPI\", \"model\": str(self.__class__), \"serial\": \"NA\", \"firmware\": \"NA\"}\n",
    "\n",
    "# instantiate the dummy measurement instrument\n",
    "dummy_instrument = RandomNumberInstrument('random_measurement_instrument')\n",
    "\n",
    "# select specific channels \n",
    "V1 = DAC.ch1.voltage # voltage output channel 1\n",
    "V2 = DAC.ch2.voltage  # voltage output channel 2\n",
    "\n",
    "# perform a 2D measurement using the standard QCodDes do2d function\n",
    "result, _, _ = do2d(\n",
    "    V1, -1, 1, 20, 0.01,\n",
    "    V2, -1, 1, 20, 0.01,\n",
    "    dummy_instrument.measurement,\n",
    "    do_plot=True,\n",
    "    show_progress=True\n",
    ")"
   ]
  },
  {
   "cell_type": "markdown",
   "metadata": {},
   "source": [
    "### 4.2 - Using the LNHR DAC II specific fast adaptive 2D scan `fast2d`\n",
    "\n",
    "For a faster adaptive 2D-scan the `fast2d` method of the LNHRDAC II can be used. In a first step, the parameters of the 2D-scan must be defined, in a second step the trigger and DAC outputs must be configured. \n",
    "\n",
    "To configure the 2D-scan parameters, an object of class `BaspiLnhrdac2Fast2dConfig` must be created and forwarded to the `fast2d.configuration.set()` parameter. The driver will then automatically configure the DAC correctly in the background. This may take a few seconds."
   ]
  },
  {
   "cell_type": "code",
   "execution_count": null,
   "metadata": {},
   "outputs": [],
   "source": [
    "config = BaspiLnhrdac2Fast2dConfig(\n",
    "        x_channel = 3,\n",
    "        x_start_voltage = 0.0,\n",
    "        x_stop_voltage = 0.5,\n",
    "        x_steps = 10,\n",
    "        y_channel = 7,\n",
    "        y_start_voltage = 0.0,\n",
    "        y_stop_voltage = 0.5,\n",
    "        y_steps = 5,\n",
    "        acquisition_delay = 0.013,\n",
    "        adaptive_shift = 0.0\n",
    ")\n",
    "\n",
    "DAC.fast2d.configuration.set(config)"
   ]
  },
  {
   "cell_type": "markdown",
   "metadata": {},
   "source": [
    "After setting the configuration the `fast2d.trigger` parameter can be configured. The LNHRDAC II supports four trigger modes:\n",
    "- `disable`: no trigger is selected, the scan goes as fast as possible, started via software\n",
    "- `line in`: the LNHRDAC II receives a trigger signal, starting each y-axis (fast axis) sweep, whilst the x-axis (slow axis) sweep is done automatically\n",
    "- `line out`: the LNHRDAC II sweeps both axes automatically and sends a trigger signal whith every start of a y-axis (fast axis) sweep\n",
    "- `point out`: the LNHRDAC II sweeps both axes automatically and sends a trigger signal whith every point of the 2D-scan\n",
    "\n",
    "Those trigger modes allow for various possible synchronisation methods inbetween the LNHRDAC II and the used data aqcusition system.\n",
    "\n",
    "Finally the outputs must be configured correctly, using the `high_bandwidth`and `enable`parameters of the respective channels. Additionally, setting the output voltages of the chosen outputs to the starting voltage of the 2D-scan might be necessary as well."
   ]
  },
  {
   "cell_type": "code",
   "execution_count": null,
   "metadata": {},
   "outputs": [],
   "source": [
    "from time import sleep\n",
    "\n",
    "DAC.ch3.high_bandwidth.set(True)\n",
    "DAC.ch7.high_bandwidth.set(True)\n",
    "DAC.ch22.high_bandwidth.set(True)\n",
    "DAC.ch3.enable.set(True)\n",
    "DAC.ch7.enable.set(True)\n",
    "DAC.ch22.enable.set(True)\n",
    "DAC.fast2d.trigger_channel.set(22)\n",
    "DAC.fast2d.trigger.set(\"point out\")\n",
    "\n",
    "# repeat 2D scans\n",
    "while True:\n",
    "    DAC.ch3.voltage.set(config.x_start_voltage)\n",
    "    DAC.ch7.voltage.set(config.y_start_voltage)\n",
    "\n",
    "    sleep(1)\n",
    "    DAC.fast2d.enable.set(\"on\")\n",
    "    sleep(10)"
   ]
  },
  {
   "cell_type": "code",
   "execution_count": null,
   "metadata": {},
   "outputs": [],
   "source": [
    "x_axis = DAC.fast2d.x_axis.get()\n",
    "y_axis = DAC.fast2d.y_axis.get()\n",
    "\n",
    "print(f\"Y-axis values are:\")\n",
    "print(y_axis)\n",
    "print(f\"X-axis values are:\")\n",
    "print(x_axis)"
   ]
  },
  {
   "cell_type": "code",
   "execution_count": null,
   "metadata": {},
   "outputs": [],
   "source": [
    "DAC.fast2d.enable.set(\"off\")"
   ]
  },
  {
   "cell_type": "code",
   "execution_count": null,
   "metadata": {},
   "outputs": [],
   "source": [
    "DAC.fast2d.trigger_channel.set(13)\n",
    "DAC.fast2d.trigger.set(\"disable\")"
   ]
  }
 ],
 "metadata": {
  "kernelspec": {
   "display_name": "BASPI-DAC-1060-qcodes-v0.1.0-G0xWj1rk",
   "language": "python",
   "name": "python3"
  },
  "language_info": {
   "codemirror_mode": {
    "name": "ipython",
    "version": 3
   },
   "file_extension": ".py",
   "mimetype": "text/x-python",
   "name": "python",
   "nbconvert_exporter": "python",
   "pygments_lexer": "ipython3",
   "version": "3.12.3"
  }
 },
 "nbformat": 4,
 "nbformat_minor": 2
}
